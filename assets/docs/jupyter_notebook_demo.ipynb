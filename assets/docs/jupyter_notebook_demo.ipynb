{
 "cells": [
  {
   "cell_type": "markdown",
   "id": "320ecbd7",
   "metadata": {},
   "source": [
    "\n",
    "# Introduction to Jupyter Notebooks in VS Code\n",
    "\n",
    "Welcome to this demonstration notebook! Here, you'll see how to use Jupyter notebooks inside VS Code with both **code** and **markdown** cells. Jupyter notebooks allow you to execute code interactively and document your process, making them a powerful tool for data analysis, machine learning, and more. You can run Python code directly in cells. For example, we can execute simple print statements, data operations, or more advanced computations."
   ]
  },
  {
   "cell_type": "markdown",
   "id": "95f147e4",
   "metadata": {},
   "source": [
    "## Setup\n",
    "\n",
    "Before running the code, ensure you have the following installed:\n",
    "1. **Python extension** and **Jupyter extension** for VS Code.\n",
    "2. Python installed on your system, with Jupyter via:\n",
    "```bash\n",
    "pip install jupyter\n",
    "```"
   ]
  },
  {
   "cell_type": "markdown",
   "id": "74b2af15",
   "metadata": {},
   "source": [
    "## IO Operations"
   ]
  },
  {
   "cell_type": "code",
   "execution_count": null,
   "id": "927819ca",
   "metadata": {},
   "outputs": [],
   "source": [
    "# print directly to the output window\n",
    "message = \"This is Jupyter in VS Code!\"\n",
    "print(message)"
   ]
  },
  {
   "cell_type": "code",
   "execution_count": null,
   "id": "48cb8a79",
   "metadata": {},
   "outputs": [],
   "source": [
    "# read in user input directly from the output window\n",
    "name = input(\"What is your name?\")\n",
    "print(f\"Hello, {name}!\")"
   ]
  },
  {
   "cell_type": "markdown",
   "id": "d529079c",
   "metadata": {},
   "source": [
    "## Data Analysis\n",
    "\n",
    "Let's demonstrate basic data analysis with the `numpy` and `matplotlib` libraries."
   ]
  },
  {
   "cell_type": "markdown",
   "id": "2c177283",
   "metadata": {},
   "source": [
    "### Install Libraries"
   ]
  },
  {
   "cell_type": "code",
   "execution_count": null,
   "id": "399dfcdc",
   "metadata": {},
   "outputs": [],
   "source": [
    "# install a pip package in the current Jupyter kernel\n",
    "%pip install numpy matplotlib"
   ]
  },
  {
   "cell_type": "markdown",
   "id": "2e9338b7",
   "metadata": {},
   "source": [
    "### Import Libraries"
   ]
  },
  {
   "cell_type": "code",
   "execution_count": 8,
   "id": "cb167c57",
   "metadata": {},
   "outputs": [],
   "source": [
    "import numpy as np\n",
    "import matplotlib.pyplot as plt"
   ]
  },
  {
   "cell_type": "markdown",
   "id": "1978ab50",
   "metadata": {},
   "source": [
    "### Data Analysis example"
   ]
  },
  {
   "cell_type": "code",
   "execution_count": null,
   "id": "b5e5c8fb",
   "metadata": {},
   "outputs": [],
   "source": [
    "# generate some data\n",
    "x = np.linspace(0, 10, 100)\n",
    "y = np.sin(x)\n",
    "\n",
    "# create a plot\n",
    "plt.plot(x, y)\n",
    "plt.title(\"Sine Wave Example\")\n",
    "plt.xlabel(\"X-axis\")\n",
    "plt.ylabel(\"Y-axis\")\n",
    "plt.show()"
   ]
  }
 ],
 "metadata": {
  "kernelspec": {
   "display_name": "stads",
   "language": "python",
   "name": "python3"
  },
  "language_info": {
   "codemirror_mode": {
    "name": "ipython",
    "version": 3
   },
   "file_extension": ".py",
   "mimetype": "text/x-python",
   "name": "python",
   "nbconvert_exporter": "python",
   "pygments_lexer": "ipython3",
   "version": "3.12.7"
  }
 },
 "nbformat": 4,
 "nbformat_minor": 5
}
