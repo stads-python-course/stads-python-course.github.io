{
 "cells": [
  {
   "cell_type": "markdown",
   "id": "d1281f6e",
   "metadata": {},
   "source": [
    "# Introduction to Plotly\n",
    "\n",
    "## What is Plotly?\n",
    "Plotly is an advanced data visualization library in Python that allows you to create interactive, web-based plots. It is particularly well-suited for creating complex visualizations with ease. Plotly Express, a part of Plotly, offers a simple and intuitive syntax for creating interactive charts."
   ]
  },
  {
   "cell_type": "markdown",
   "id": "e435b6f9",
   "metadata": {},
   "source": [
    "## Installation\n",
    "If you don’t have Plotly installed, you can install it using:"
   ]
  },
  {
   "cell_type": "code",
   "execution_count": null,
   "id": "bd293ea3",
   "metadata": {},
   "outputs": [],
   "source": [
    "!pip install plotly"
   ]
  },
  {
   "cell_type": "markdown",
   "id": "212d905c",
   "metadata": {},
   "source": [
    "## Basic Usage with Plotly Express\n",
    "Let's start with a simple line plot using Plotly Express:"
   ]
  },
  {
   "cell_type": "code",
   "execution_count": null,
   "id": "61134f41",
   "metadata": {},
   "outputs": [],
   "source": [
    "import plotly.express as px\n",
    "\n",
    "# Sample data\n",
    "data = {'x': [1, 2, 3, 4, 5], 'y': [2, 3, 5, 7, 11]}\n",
    "\n",
    "# Create a plot\n",
    "fig = px.line(data, x='x', y='y', title='Simple Line Plot')\n",
    "\n",
    "# Display the plot\n",
    "fig.show()"
   ]
  },
  {
   "cell_type": "markdown",
   "id": "0c9ed297",
   "metadata": {},
   "source": [
    "### Explanation:\n",
    "- `px.line()` creates a line plot.\n",
    "- `x` and `y` specify the data columns for the axes.\n",
    "- `fig.show()` displays the interactive plot."
   ]
  },
  {
   "cell_type": "markdown",
   "id": "3140eb3e",
   "metadata": {},
   "source": [
    "## Customizing Plots\n",
    "You can customize your Plotly Express plots with various parameters, including color and markers."
   ]
  },
  {
   "cell_type": "code",
   "execution_count": null,
   "id": "ac2aedf7",
   "metadata": {},
   "outputs": [],
   "source": [
    "fig = px.line(data, x='x', y='y', title='Customized Line Plot', markers=True)\n",
    "fig.update_traces(line=dict(color='red', dash='dash'))\n",
    "fig.show()"
   ]
  },
  {
   "cell_type": "markdown",
   "id": "df4e2b89",
   "metadata": {},
   "source": [
    "### Explanation:\n",
    "- `markers=True` adds markers to the data points.\n",
    "- `update_traces()` allows you to modify the line properties, such as color and dash style."
   ]
  },
  {
   "cell_type": "markdown",
   "id": "098bcdf4",
   "metadata": {},
   "source": [
    "## Other Common Plot Types\n",
    "### Bar Chart"
   ]
  },
  {
   "cell_type": "code",
   "execution_count": null,
   "id": "e2d45ed9",
   "metadata": {},
   "outputs": [],
   "source": [
    "fig = px.bar(x=['A', 'B', 'C', 'D'], y=[5, 7, 3, 8], title='Bar Chart', color_discrete_sequence=['lightblue'])\n",
    "fig.show()"
   ]
  },
  {
   "cell_type": "markdown",
   "id": "6840e406",
   "metadata": {},
   "source": [
    "### Scatter Plot"
   ]
  },
  {
   "cell_type": "code",
   "execution_count": null,
   "id": "d3fa36ce",
   "metadata": {},
   "outputs": [],
   "source": [
    "fig = px.scatter(x=[1, 2, 3, 4, 5], y=[2, 4, 1, 3, 7], title='Scatter Plot', color_discrete_sequence=['green'])\n",
    "fig.show()"
   ]
  },
  {
   "cell_type": "markdown",
   "id": "a35efcf5",
   "metadata": {},
   "source": [
    "## Subplots and Faceting\n",
    "You can create subplots and facet plots using Plotly Express for more complex visualizations."
   ]
  },
  {
   "cell_type": "code",
   "execution_count": null,
   "id": "216ee152",
   "metadata": {},
   "outputs": [],
   "source": [
    "import plotly.subplots as sp\n",
    "from plotly.graph_objs import Scatter\n",
    "\n",
    "# Create subplots\n",
    "fig = sp.make_subplots(rows=2, cols=2, \n",
    "                       subplot_titles=('Line Plot', 'Bar Chart', 'Scatter Plot', 'Histogram'))\n",
    "\n",
    "# Add a line plot\n",
    "fig.add_trace(Scatter(x=[1, 2, 3, 4, 5], y=[2, 3, 5, 7, 11], mode='lines', name='Line Plot'), row=1, col=1)\n",
    "\n",
    "# Add a bar chart\n",
    "fig.add_trace(Scatter(x=['A', 'B', 'C', 'D'], y=[5, 7, 3, 8], mode='markers', name='Bar Chart'), row=1, col=2)\n",
    "\n",
    "# Add a scatter plot\n",
    "fig.add_trace(Scatter(x=[1, 2, 3, 4, 5], y=[2, 4, 1, 3, 7], mode='markers', name='Scatter Plot'), row=2, col=1)\n",
    "\n",
    "# Add a histogram\n",
    "fig.add_trace(Scatter(x=[1, 2, 2, 3, 3, 3, 4, 4, 5], mode='markers', name='Histogram'), row=2, col=2)\n",
    "\n",
    "# Update layout\n",
    "fig.update_layout(height=600, width=800, title_text='Subplots Example')\n",
    "fig.show()"
   ]
  },
  {
   "cell_type": "markdown",
   "id": "a7817ff5",
   "metadata": {},
   "source": [
    "## Conclusion\n",
    "Plotly, especially with Plotly Express, is a powerful tool for creating interactive and visually appealing plots. Its simplicity and versatility make it a great complement to libraries like Matplotlib for data analysis and presentation."
   ]
  }
 ],
 "metadata": {
  "kernelspec": {
   "display_name": "stads",
   "language": "python",
   "name": "python3"
  },
  "language_info": {
   "codemirror_mode": {
    "name": "ipython",
    "version": 3
   },
   "file_extension": ".py",
   "mimetype": "text/x-python",
   "name": "python",
   "nbconvert_exporter": "python",
   "pygments_lexer": "ipython3",
   "version": "3.12.7"
  }
 },
 "nbformat": 4,
 "nbformat_minor": 5
}
