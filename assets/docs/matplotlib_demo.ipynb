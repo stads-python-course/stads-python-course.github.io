{
 "cells": [
  {
   "cell_type": "markdown",
   "id": "7cf701eb",
   "metadata": {},
   "source": [
    "# Introduction to Matplotlib\n",
    "\n",
    "## What is Matplotlib?\n",
    "Matplotlib is a powerful and popular library in Python for data visualization. It is widely used for creating static, animated, and interactive plots in Python. With Matplotlib, you can create plots, histograms, bar charts, scatter plots, and more. It is highly customizable, allowing users to create complex visualizations that are publication-ready."
   ]
  },
  {
   "cell_type": "markdown",
   "id": "d92dafaa",
   "metadata": {},
   "source": [
    "## Installation\n",
    "If you don’t have Matplotlib installed, you can install it using:"
   ]
  },
  {
   "cell_type": "code",
   "execution_count": null,
   "id": "1586c932",
   "metadata": {},
   "outputs": [],
   "source": [
    "!pip install matplotlib"
   ]
  },
  {
   "cell_type": "markdown",
   "id": "59f3c92f",
   "metadata": {},
   "source": [
    "## Basic Usage\n",
    "Let's start with a simple line plot:"
   ]
  },
  {
   "cell_type": "code",
   "execution_count": null,
   "id": "884f0f98",
   "metadata": {},
   "outputs": [],
   "source": [
    "import matplotlib.pyplot as plt\n",
    "\n",
    "# Sample data\n",
    "x = [1, 2, 3, 4, 5]\n",
    "y = [2, 3, 5, 7, 11]\n",
    "\n",
    "# Create a plot\n",
    "plt.plot(x, y)\n",
    "\n",
    "# Add labels and a title\n",
    "plt.xlabel('X-axis')\n",
    "plt.ylabel('Y-axis')\n",
    "plt.title('Simple Line Plot')\n",
    "\n",
    "# Display the plot\n",
    "plt.show()"
   ]
  },
  {
   "cell_type": "markdown",
   "id": "99a9db10",
   "metadata": {},
   "source": [
    "### Explanation:\n",
    "- `plt.plot()` is used to create a line plot.\n",
    "- `plt.xlabel()` and `plt.ylabel()` add labels to the x and y axes, respectively.\n",
    "- `plt.title()` adds a title to the plot.\n",
    "- `plt.show()` displays the plot."
   ]
  },
  {
   "cell_type": "markdown",
   "id": "2fc81b83",
   "metadata": {},
   "source": [
    "## Customizing Plots\n",
    "You can customize your plots by changing colors, line styles, markers, and more."
   ]
  },
  {
   "cell_type": "code",
   "execution_count": null,
   "id": "8f5ad75e",
   "metadata": {},
   "outputs": [],
   "source": [
    "plt.plot(x, y, color='red', linestyle='--', marker='o')\n",
    "plt.xlabel('X-axis')\n",
    "plt.ylabel('Y-axis')\n",
    "plt.title('Customized Line Plot')\n",
    "plt.show()"
   ]
  },
  {
   "cell_type": "markdown",
   "id": "edfafd8f",
   "metadata": {},
   "source": [
    "### Explanation:\n",
    "- `color` specifies the color of the line.\n",
    "- `linestyle` changes the style of the line (e.g., `--` for dashed, `-` for solid).\n",
    "- `marker` adds markers to data points (e.g., `o` for circles, `s` for squares)."
   ]
  },
  {
   "cell_type": "markdown",
   "id": "c45a8ee5",
   "metadata": {},
   "source": [
    "## Additional Plot Elements\n",
    "### Adding Legends and Grid\n",
    "Adding legends and grid lines can make plots more informative and easier to read."
   ]
  },
  {
   "cell_type": "code",
   "execution_count": null,
   "id": "86482d54",
   "metadata": {},
   "outputs": [],
   "source": [
    "plt.plot(x, y, label='Line 1', color='blue')\n",
    "plt.plot([1, 2, 3, 4, 5], [3, 5, 9, 1, 4], label='Line 2', color='orange')\n",
    "\n",
    "plt.xlabel('X-axis')\n",
    "plt.ylabel('Y-axis')\n",
    "plt.title('Line Plot with Legend and Grid')\n",
    "plt.legend()  # Display the legend\n",
    "plt.grid(True)  # Add grid lines\n",
    "plt.show()"
   ]
  },
  {
   "cell_type": "markdown",
   "id": "56acbbed",
   "metadata": {},
   "source": [
    "### Explanation:\n",
    "- `plt.legend()` displays a legend for labeled plots.\n",
    "- `plt.grid(True)` adds a grid to the plot."
   ]
  },
  {
   "cell_type": "markdown",
   "id": "2d95af7c",
   "metadata": {},
   "source": [
    "## Creating Subplots\n",
    "Matplotlib allows you to create multiple subplots in a single figure, which is useful for comparing different visualizations side by side."
   ]
  },
  {
   "cell_type": "code",
   "execution_count": null,
   "id": "f7e5dec4",
   "metadata": {},
   "outputs": [],
   "source": [
    "# Create subplots\n",
    "fig, axs = plt.subplots(2, 2, figsize=(10, 8))\n",
    "\n",
    "# First subplot\n",
    "axs[0, 0].plot(x, y)\n",
    "axs[0, 0].set_title('Line Plot')\n",
    "\n",
    "# Second subplot\n",
    "axs[0, 1].bar(['A', 'B', 'C', 'D'], [5, 7, 3, 8], color='lightblue')\n",
    "axs[0, 1].set_title('Bar Chart')\n",
    "\n",
    "# Third subplot\n",
    "axs[1, 0].scatter(x, y, color='green')\n",
    "axs[1, 0].set_title('Scatter Plot')\n",
    "\n",
    "# Fourth subplot\n",
    "axs[1, 1].hist([1, 2, 2, 3, 3, 3, 4, 4, 5], bins=5, color='purple')\n",
    "axs[1, 1].set_title('Histogram')\n",
    "\n",
    "# Adjust layout\n",
    "plt.tight_layout()\n",
    "plt.show()"
   ]
  },
  {
   "cell_type": "markdown",
   "id": "893000ae",
   "metadata": {},
   "source": [
    "### Explanation:\n",
    "- `plt.subplots()` creates a grid of subplots.\n",
    "- `axs[row, col]` allows you to access individual subplots.\n",
    "- `plt.tight_layout()` adjusts spacing to prevent overlapping content."
   ]
  },
  {
   "cell_type": "markdown",
   "id": "65a6e443",
   "metadata": {},
   "source": [
    "## Plot Annotations\n",
    "Adding annotations can highlight specific data points or areas in your plot."
   ]
  },
  {
   "cell_type": "code",
   "execution_count": null,
   "id": "386da22b",
   "metadata": {},
   "outputs": [],
   "source": [
    "plt.plot(x, y, marker='o')\n",
    "plt.xlabel('X-axis')\n",
    "plt.ylabel('Y-axis')\n",
    "plt.title('Plot with Annotations')\n",
    "\n",
    "# Add an annotation\n",
    "plt.annotate('Peak', xy=(4, 7), xytext=(3, 8),\n",
    "             arrowprops=dict(facecolor='black', arrowstyle='->'))\n",
    "plt.show()"
   ]
  },
  {
   "cell_type": "markdown",
   "id": "8685269c",
   "metadata": {},
   "source": [
    "### Explanation:\n",
    "- `plt.annotate()` adds text annotations to a plot.\n",
    "- `xy` specifies the point to annotate, and `xytext` is the location of the annotation text.\n",
    "- `arrowprops` adds an arrow pointing to the annotated point."
   ]
  },
  {
   "cell_type": "markdown",
   "id": "0ff2c636",
   "metadata": {},
   "source": [
    "## Styling and Themes\n",
    "Matplotlib comes with several built-in styles that you can apply to your plots for a different look."
   ]
  },
  {
   "cell_type": "code",
   "execution_count": null,
   "id": "0e0ce01d",
   "metadata": {},
   "outputs": [],
   "source": [
    "# List available styles\n",
    "print(plt.style.available)\n",
    "\n",
    "# Apply a style\n",
    "plt.style.use('fivethirtyeight')\n",
    "\n",
    "# Plot with the selected style\n",
    "plt.plot(x, y, marker='o')\n",
    "plt.xlabel('X-axis')\n",
    "plt.ylabel('Y-axis')\n",
    "plt.title('Styled Plot')\n",
    "plt.show()"
   ]
  },
  {
   "cell_type": "markdown",
   "id": "d6c4b979",
   "metadata": {},
   "source": [
    "### Explanation:\n",
    "- `plt.style.use()` applies a specific style to the plot.\n",
    "- Some popular styles include `ggplot`, `seaborn`, and `fivethirtyeight`."
   ]
  },
  {
   "cell_type": "markdown",
   "id": "fd0dd7c4",
   "metadata": {},
   "source": [
    "## Saving Plots\n",
    "You can save your plots as image files using `plt.savefig()`."
   ]
  },
  {
   "cell_type": "code",
   "execution_count": null,
   "id": "b836391c",
   "metadata": {},
   "outputs": [],
   "source": [
    "plt.plot(x, y)\n",
    "plt.xlabel('X-axis')\n",
    "plt.ylabel('Y-axis')\n",
    "plt.title('Save Plot Example')\n",
    "\n",
    "# Save the plot\n",
    "plt.savefig('plot_example.png', dpi=300)\n",
    "plt.show()"
   ]
  },
  {
   "cell_type": "markdown",
   "id": "79115a23",
   "metadata": {},
   "source": [
    "### Explanation:\n",
    "- `plt.savefig('filename', dpi=300)` saves the plot to a file with a specified resolution.\n",
    "- The `dpi` parameter controls the dots per inch for better quality."
   ]
  },
  {
   "cell_type": "markdown",
   "id": "65cf60c5",
   "metadata": {},
   "source": [
    "## Conclusion\n",
    "Matplotlib is an essential library for anyone working with data visualization in Python. With its extensive customization options and support for various plot types, it is a powerful tool for creating informative and visually appealing plots."
   ]
  }
 ],
 "metadata": {
  "kernelspec": {
   "display_name": "stads",
   "language": "python",
   "name": "python3"
  },
  "language_info": {
   "codemirror_mode": {
    "name": "ipython",
    "version": 3
   },
   "file_extension": ".py",
   "mimetype": "text/x-python",
   "name": "python",
   "nbconvert_exporter": "python",
   "pygments_lexer": "ipython3",
   "version": "3.12.7"
  }
 },
 "nbformat": 4,
 "nbformat_minor": 5
}
